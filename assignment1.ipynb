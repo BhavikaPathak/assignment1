{
 "cells": [
  {
   "cell_type": "markdown",
   "id": "01bc8acb-6748-451f-b130-ca55a3136a3c",
   "metadata": {},
   "source": [
    "ANSWER 1 Guido von Rossum"
   ]
  },
  {
   "cell_type": "markdown",
   "id": "ea994d0f-0e2a-4ee9-93fc-e8ebf0cfacee",
   "metadata": {},
   "source": [
    "ANSWER 2 Object Oriented programming and structured programming "
   ]
  },
  {
   "cell_type": "markdown",
   "id": "b28b8113-79da-4c1c-8629-2e1a4b44539a",
   "metadata": {},
   "source": [
    "ANSWER 3 Yes python is a case sensitive language "
   ]
  },
  {
   "cell_type": "markdown",
   "id": "0b15eba9-d72c-4687-a17e-c87953f07e6b",
   "metadata": {},
   "source": [
    "ANSWER 4 .py is the extension for python files "
   ]
  },
  {
   "cell_type": "markdown",
   "id": "7d216f5e-3e84-4594-b699-12d1eb34b9da",
   "metadata": {},
   "source": [
    "ANSWER 5 Python code is interpreted "
   ]
  },
  {
   "cell_type": "markdown",
   "id": "3c5f2fba-0b01-49c0-85dd-b0a115065d02",
   "metadata": {},
   "source": [
    "ANSWER 6 A module , A function body and A class definition "
   ]
  },
  {
   "cell_type": "markdown",
   "id": "475be9d8-68be-47de-8c93-6b10a4703510",
   "metadata": {},
   "source": [
    "ANSWER 7 we can write a single line comment by adding a single # character before any statement"
   ]
  },
  {
   "cell_type": "markdown",
   "id": "7090c763-4dd7-4b62-950a-6480462588c1",
   "metadata": {},
   "source": [
    "ANSWER 8 The fuction sys."
   ]
  },
  {
   "cell_type": "markdown",
   "id": "ed765c96-fcf6-4eef-851c-62f18d38a8b8",
   "metadata": {},
   "source": [
    "ANSWER 9 Lambda"
   ]
  },
  {
   "cell_type": "markdown",
   "id": "e6097e59-2184-405c-a05f-285e12b0caee",
   "metadata": {},
   "source": [
    "ANSWER 10 Preferred installer program"
   ]
  },
  {
   "cell_type": "markdown",
   "id": "364c6bcb-e8c5-45ee-832c-82ebaa5bb859",
   "metadata": {},
   "source": [
    "ANSWER 11 Float()   Return a floting point number\n",
    "          int()     return an integer numbers \n",
    "          len()     return the length of the object \n",
    "          list()    return list \n",
    "          print()   print to the standared output device \n",
    "          "
   ]
  },
  {
   "cell_type": "markdown",
   "id": "d6c35317-e5cf-4a6a-a4d2-224f12ad21fc",
   "metadata": {},
   "source": [
    "ANSWER 12 79 Character"
   ]
  },
  {
   "cell_type": "markdown",
   "id": "a30a9cde-ce65-4c49-ba1f-1392ee694f6f",
   "metadata": {},
   "source": [
    "ANSWER 13 It is general purpose skills used in alomost all fields , including data science ,web development , basic game development etc "
   ]
  },
  {
   "cell_type": "markdown",
   "id": "517c2bef-1c17-467f-9e34-e66a26618474",
   "metadata": {},
   "source": [
    "ANSWER 14 Memory in python is managed by python private heap space "
   ]
  },
  {
   "cell_type": "markdown",
   "id": "8c2f6db1-e458-4dd1-ad8f-0051e954de01",
   "metadata": {},
   "source": [
    "ANSWER 16 Yes , python uses indentation to indicate a block of code "
   ]
  },
  {
   "cell_type": "markdown",
   "id": "d54ec972-e947-43c8-bda6-853d25238c89",
   "metadata": {},
   "source": [
    "ANSWER 15 ->Type “Python” in the Windows Search Bar\n",
    "          ->Right-click on the Python App, and then select “Open file location“\n",
    "          ->Right-click again on the Python shortcut, and then select “Open file location“\n",
    "          -> For the Variable name, type ‘Path‘\n",
    "          ->For the Variable value, copy the full Python application path, then use semicolon, and finally copy the Python Scripts path."
   ]
  },
  {
   "cell_type": "code",
   "execution_count": null,
   "id": "0643c7f6-b793-49d6-ad6d-83f46e9da0e6",
   "metadata": {},
   "outputs": [],
   "source": []
  }
 ],
 "metadata": {
  "kernelspec": {
   "display_name": "Python 3 (ipykernel)",
   "language": "python",
   "name": "python3"
  },
  "language_info": {
   "codemirror_mode": {
    "name": "ipython",
    "version": 3
   },
   "file_extension": ".py",
   "mimetype": "text/x-python",
   "name": "python",
   "nbconvert_exporter": "python",
   "pygments_lexer": "ipython3",
   "version": "3.10.8"
  }
 },
 "nbformat": 4,
 "nbformat_minor": 5
}
